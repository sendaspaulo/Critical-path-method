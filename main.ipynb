{
 "cells": [
  {
   "cell_type": "code",
   "execution_count": 1,
   "id": "705dabc8",
   "metadata": {},
   "outputs": [
    {
     "name": "stdout",
     "output_type": "stream",
     "text": [
      "Requirement already satisfied: pandas in c:\\users\\phpal\\appdata\\local\\programs\\python\\python312\\lib\\site-packages (2.1.3)\n",
      "Requirement already satisfied: numpy<2,>=1.26.0 in c:\\users\\phpal\\appdata\\local\\programs\\python\\python312\\lib\\site-packages (from pandas) (1.26.2)\n",
      "Requirement already satisfied: python-dateutil>=2.8.2 in c:\\users\\phpal\\appdata\\local\\programs\\python\\python312\\lib\\site-packages (from pandas) (2.8.2)\n",
      "Requirement already satisfied: pytz>=2020.1 in c:\\users\\phpal\\appdata\\local\\programs\\python\\python312\\lib\\site-packages (from pandas) (2023.3.post1)\n",
      "Requirement already satisfied: tzdata>=2022.1 in c:\\users\\phpal\\appdata\\local\\programs\\python\\python312\\lib\\site-packages (from pandas) (2023.3)\n",
      "Requirement already satisfied: six>=1.5 in c:\\users\\phpal\\appdata\\local\\programs\\python\\python312\\lib\\site-packages (from python-dateutil>=2.8.2->pandas) (1.16.0)\n"
     ]
    },
    {
     "name": "stderr",
     "output_type": "stream",
     "text": [
      "\n",
      "[notice] A new release of pip is available: 23.2.1 -> 25.1.1\n",
      "[notice] To update, run: python.exe -m pip install --upgrade pip\n"
     ]
    }
   ],
   "source": [
    "# Instalação dos pacotes necessários\n",
    "!pip install pandas\n"
   ]
  },
  {
   "cell_type": "code",
   "execution_count": 2,
   "id": "c1eb172b",
   "metadata": {},
   "outputs": [
    {
     "name": "stdout",
     "output_type": "stream",
     "text": [
      "Duração total do projeto (dias): 11.88\n",
      "\n",
      "Fase                      ES     EF     LS     LF    Folga\n",
      "T1_Level Design             0.00   5.09  -0.00   5.09  -0.00\n",
      "T1_Modelador 3D             0.00   3.53   5.49   9.02   5.49\n",
      "T1_Iluminação               5.09   7.31   6.80   9.02   1.71\n",
      "T1_Programador              5.09   9.02   5.09   9.02  -0.00\n",
      "T1_QA                       9.02  11.88   9.02  11.88   0.00\n",
      "\n",
      "Caminho crítico:\n",
      "T1_Level Design → T1_Programador → T1_QA\n"
     ]
    }
   ],
   "source": [
    "import pandas as pd\n",
    "from collections import deque, defaultdict\n",
    "import math\n",
    "\n",
    "# --- 1) Carrega o banco de funcionários e calcula capacidade por setor (horas/dia) ---\n",
    "employees_df = pd.read_csv('Funcionarios.csv')\n",
    "\n",
    "# Extrai todos os setores que aparecem na coluna 'Setores'\n",
    "sectors = employees_df['Setores'].unique().tolist()\n",
    "\n",
    "# Calcula a capacidade (soma de horas por dia) de cada setor\n",
    "capacity = {}\n",
    "for s in sectors:\n",
    "    mask = (employees_df['Setores'] == s)\n",
    "    capacity[s] = employees_df.loc[mask, 'HorasPorDia'].sum()\n",
    "    if capacity[s] == 0:\n",
    "        raise ValueError(f\"Setor {s} não tem funcionários alocados!\")\n",
    "\n",
    "# --- 2) Define o escopo original: horas necessárias por tarefa e setor ---\n",
    "# Ajuste os valores de horas conforme seu projeto\n",
    "task_hours = {\n",
    "    \"T1\": {\"Level Design\": 560, \"Iluminação\": 160, \"Modelador 3D\": 120, \"Programador\": 220,  \"QA\": 40},\n",
    "    \n",
    "\n",
    "}\n",
    "\n",
    "# --- 3) Expande cada Tarefa em fases por setor, convertendo para dias e estabelecendo dependências ---\n",
    "tasks = {}\n",
    "for T, hours_dict in task_hours.items():\n",
    "    for S, h in hours_dict.items():\n",
    "        key = f\"{T}_{S}\"\n",
    "        dur = h / capacity[S]   # duração em dias (float)\n",
    "        # Definição de predecessores (dependências) por setor:\n",
    "        if S in (\"Modelador 3D\", \"Level Design\"):\n",
    "            preds = []\n",
    "        elif S == \"Iluminação\":\n",
    "            preds = [f\"{T}_Level Design\"]\n",
    "        elif S == \"Programador\":\n",
    "            preds = [f\"{T}_Level Design\"]\n",
    "        elif S == \"QA\":\n",
    "            preds = [\n",
    "                f\"{T}_Level Design\", \n",
    "                f\"{T}_Modelador 3D\", \n",
    "                f\"{T}_Iluminação\", \n",
    "                f\"{T}_Programador\"\n",
    "            ]\n",
    "        else:\n",
    "            preds = []\n",
    "        tasks[key] = {\n",
    "            \"duration\": dur,\n",
    "            \"predecessors\": preds\n",
    "        }\n",
    "\n",
    "# --- 4) Monta grafo de sucessores e grau de entrada para ordenação topológica ---\n",
    "successors = defaultdict(list)\n",
    "in_degree  = { t: 0 for t in tasks }\n",
    "for t, info in tasks.items():\n",
    "    for p in info[\"predecessors\"]:\n",
    "        successors[p].append(t)\n",
    "        in_degree[t] += 1\n",
    "\n",
    "# --- 5) Forward Pass: calcula ES e EF ---\n",
    "ES, EF = {}, {}\n",
    "queue = deque([t for t, deg in in_degree.items() if deg == 0])\n",
    "while queue:\n",
    "    t = queue.popleft()\n",
    "    es = max((EF[p] for p in tasks[t][\"predecessors\"]), default=0)\n",
    "    ES[t] = es\n",
    "    EF[t] = es + tasks[t][\"duration\"]\n",
    "    for succ in successors[t]:\n",
    "        in_degree[succ] -= 1\n",
    "        if in_degree[succ] == 0:\n",
    "            queue.append(succ)\n",
    "project_duration = max(EF.values())\n",
    "\n",
    "# --- 6) Backward Pass: calcula LS e LF ---\n",
    "LF = {t: project_duration for t in tasks}\n",
    "LS = {}\n",
    "for t in sorted(EF, key=lambda x: EF[x], reverse=True):\n",
    "    lf = min((LS[s] for s in successors[t]), default=project_duration)\n",
    "    LF[t] = lf\n",
    "    LS[t] = lf - tasks[t][\"duration\"]\n",
    "\n",
    "# --- 7) Identifica o caminho crítico (folga zero) ---\n",
    "# Considera como crítico qualquer fase com folga <= 1e-6\n",
    "critical_path = [t for t in sorted(tasks, key=lambda x: ES[x])\n",
    "                 if LS[t] - ES[t] <= 1e-6]\n",
    "\n",
    "# --- 8) Impressão resumida ---\n",
    "print(f\"Duração total do projeto (dias): {project_duration:.2f}\\n\")\n",
    "print(f\"{'Fase':<25} ES     EF     LS     LF    Folga\")\n",
    "for t in sorted(tasks, key=lambda x: ES[x]):\n",
    "    folga = LS[t] - ES[t]\n",
    "    print(f\"{t:<25} {ES[t]:6.2f} {EF[t]:6.2f} {LS[t]:6.2f} {LF[t]:6.2f} {folga:6.2f}\")\n",
    "\n",
    "print(\"\\nCaminho crítico:\")\n",
    "print(\" → \".join(critical_path))\n"
   ]
  }
 ],
 "metadata": {
  "kernelspec": {
   "display_name": "Python 3",
   "language": "python",
   "name": "python3"
  },
  "language_info": {
   "codemirror_mode": {
    "name": "ipython",
    "version": 3
   },
   "file_extension": ".py",
   "mimetype": "text/x-python",
   "name": "python",
   "nbconvert_exporter": "python",
   "pygments_lexer": "ipython3",
   "version": "3.12.0"
  }
 },
 "nbformat": 4,
 "nbformat_minor": 5
}
